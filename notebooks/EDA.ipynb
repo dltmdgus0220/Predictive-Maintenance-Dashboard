{
 "cells": [
  {
   "cell_type": "code",
   "execution_count": 40,
   "id": "b31e6aa9",
   "metadata": {},
   "outputs": [],
   "source": [
    "import sqlite3\n",
    "import pandas as pd\n",
    "import numpy as np\n",
    "import matplotlib.pyplot as plt"
   ]
  },
  {
   "cell_type": "code",
   "execution_count": null,
   "id": "58fb4952",
   "metadata": {},
   "outputs": [],
   "source": [
    "conn = sqlite3.connect('../db/sensor_data.sqlite')\n",
    "table = \"full_flat_sensor_data\"  # 테이블명 , 언젠가 바꿀 수도..\n",
    "\n",
    "query = \"SELECT * FROM \" + table \n",
    "\n",
    "df = pd.read_sql_query(query, conn)"
   ]
  },
  {
   "cell_type": "code",
   "execution_count": 7,
   "id": "4ab25cda",
   "metadata": {
    "vscode": {
     "languageId": "markdown"
    }
   },
   "outputs": [
    {
     "name": "stdout",
     "output_type": "stream",
     "text": [
      "<class 'pandas.core.frame.DataFrame'>\n",
      "RangeIndex: 111870 entries, 0 to 111869\n",
      "Data columns (total 62 columns):\n",
      " #   Column                              Non-Null Count   Dtype  \n",
      "---  ------                              --------------   -----  \n",
      " 0   id                                  111870 non-null  int64  \n",
      " 1   device_id                           111870 non-null  object \n",
      " 2   device_manufacturer                 111870 non-null  object \n",
      " 3   device_name                         111870 non-null  object \n",
      " 4   dust_sensor_manufacturer            111870 non-null  object \n",
      " 5   dust_sensor_name                    111870 non-null  object \n",
      " 6   temp_sensor_manufacturer            111870 non-null  object \n",
      " 7   temp_sensor_name                    111870 non-null  object \n",
      " 8   overcurrent_sensor_manufacturer     111870 non-null  object \n",
      " 9   overcurrent_sensor_name             111870 non-null  object \n",
      " 10  thermal_camera_sensor_manufacturer  111870 non-null  object \n",
      " 11  thermal_camera_sensor_name          111870 non-null  object \n",
      " 12  installation_environment            111870 non-null  object \n",
      " 13  collection_date                     111870 non-null  object \n",
      " 14  collection_time                     111870 non-null  object \n",
      " 15  duration_time                       111870 non-null  object \n",
      " 16  sensor_types                        111870 non-null  object \n",
      " 17  cumulative_operating_day            111870 non-null  object \n",
      " 18  equipment_history                   111870 non-null  object \n",
      " 19  img_id                              111870 non-null  object \n",
      " 20  location                            111870 non-null  object \n",
      " 21  filename                            111870 non-null  object \n",
      " 22  img_name                            111870 non-null  object \n",
      " 23  img_description                     111870 non-null  object \n",
      " 24  PM10_value                          111870 non-null  float64\n",
      " 25  PM10_unit                           111870 non-null  object \n",
      " 26  PM10_trend                          111870 non-null  object \n",
      " 27  PM2_5_value                         111870 non-null  float64\n",
      " 28  PM2_5_unit                          111870 non-null  object \n",
      " 29  PM2_5_trend                         111870 non-null  object \n",
      " 30  PM1_0_value                         111870 non-null  float64\n",
      " 31  PM1_0_unit                          111870 non-null  object \n",
      " 32  PM1_0_trend                         111870 non-null  object \n",
      " 33  NTC_value                           111870 non-null  float64\n",
      " 34  NTC_unit                            111870 non-null  object \n",
      " 35  NTC_trend                           111870 non-null  object \n",
      " 36  CT1_value                           111870 non-null  float64\n",
      " 37  CT1_unit                            111870 non-null  object \n",
      " 38  CT1_trend                           111870 non-null  object \n",
      " 39  CT2_value                           111870 non-null  float64\n",
      " 40  CT2_unit                            111870 non-null  object \n",
      " 41  CT2_trend                           111870 non-null  object \n",
      " 42  CT3_value                           111870 non-null  float64\n",
      " 43  CT3_unit                            111870 non-null  object \n",
      " 44  CT3_trend                           111870 non-null  object \n",
      " 45  CT4_value                           111870 non-null  float64\n",
      " 46  CT4_unit                            111870 non-null  object \n",
      " 47  CT4_trend                           111870 non-null  object \n",
      " 48  value_TGmx                          111870 non-null  float64\n",
      " 49  X_Tmax                              111870 non-null  float64\n",
      " 50  Y_Tmax                              111870 non-null  float64\n",
      " 51  annotation_type                     111870 non-null  object \n",
      " 52  annotation_state                    111870 non-null  object \n",
      " 53  ex_temperature_value                111870 non-null  float64\n",
      " 54  ex_temperature_unit                 111870 non-null  object \n",
      " 55  ex_temperature_trend                111870 non-null  object \n",
      " 56  ex_humidity_value                   111870 non-null  float64\n",
      " 57  ex_humidity_unit                    111870 non-null  object \n",
      " 58  ex_humidity_trend                   111870 non-null  object \n",
      " 59  ex_illuminance_value                111870 non-null  float64\n",
      " 60  ex_illuminance_unit                 111870 non-null  object \n",
      " 61  ex_illuminance_trend                111870 non-null  object \n",
      "dtypes: float64(14), int64(1), object(47)\n",
      "memory usage: 52.9+ MB\n",
      "None\n"
     ]
    }
   ],
   "source": [
    "# row 생략 없이 출력\n",
    "pd.set_option('display.max_rows', None)\n",
    "# col 생략 없이 출력\n",
    "pd.set_option('display.max_columns', None)\n",
    "print(df.info())"
   ]
  },
  {
   "cell_type": "code",
   "execution_count": 8,
   "id": "78ac4d41",
   "metadata": {
    "vscode": {
     "languageId": "markdown"
    }
   },
   "outputs": [
    {
     "data": {
      "text/plain": [
       "device_id\n",
       "oht01    3731\n",
       "oht09    3730\n",
       "oht11    3730\n",
       "oht10    3730\n",
       "oht08    3730\n",
       "oht07    3730\n",
       "oht06    3730\n",
       "oht05    3730\n",
       "oht02    3729\n",
       "oht03    3693\n",
       "oht12    3671\n",
       "oht18    3671\n",
       "oht17    3671\n",
       "oht15    3671\n",
       "oht14    3671\n",
       "oht13    3671\n",
       "oht16    3671\n",
       "oht04    3431\n",
       "agv02    2527\n",
       "agv01    2527\n",
       "agv04    2527\n",
       "agv03    2527\n",
       "agv06    2527\n",
       "agv05    2527\n",
       "agv08    2527\n",
       "agv07    2527\n",
       "agv11    2527\n",
       "agv10    2527\n",
       "agv09    2527\n",
       "agv13    2526\n",
       "agv15    2526\n",
       "agv16    2526\n",
       "agv12    2526\n",
       "agv14    2526\n",
       "agv18    2526\n",
       "agv17    2526\n",
       "Name: count, dtype: int64"
      ]
     },
     "execution_count": 8,
     "metadata": {},
     "output_type": "execute_result"
    }
   ],
   "source": [
    "df.device_id.value_counts()"
   ]
  },
  {
   "cell_type": "code",
   "execution_count": 9,
   "id": "1faa85a4",
   "metadata": {
    "vscode": {
     "languageId": "markdown"
    }
   },
   "outputs": [
    {
     "data": {
      "text/plain": [
       "device_name\n",
       "A1    66391\n",
       "B1    22743\n",
       "C1    22736\n",
       "Name: count, dtype: int64"
      ]
     },
     "execution_count": 9,
     "metadata": {},
     "output_type": "execute_result"
    }
   ],
   "source": [
    "df.device_name.value_counts()"
   ]
  },
  {
   "cell_type": "code",
   "execution_count": 10,
   "id": "02bba02b",
   "metadata": {
    "vscode": {
     "languageId": "markdown"
    }
   },
   "outputs": [
    {
     "data": {
      "text/plain": [
       "device_manufacturer\n",
       "A    66391\n",
       "B    22743\n",
       "C    22736\n",
       "Name: count, dtype: int64"
      ]
     },
     "execution_count": 10,
     "metadata": {},
     "output_type": "execute_result"
    }
   ],
   "source": [
    "df.device_manufacturer.value_counts()"
   ]
  },
  {
   "cell_type": "code",
   "execution_count": 13,
   "id": "21f7002f",
   "metadata": {
    "vscode": {
     "languageId": "markdown"
    }
   },
   "outputs": [
    {
     "name": "stdout",
     "output_type": "stream",
     "text": [
      "dust_sensor_name\n",
      "S02    111870\n",
      "Name: count, dtype: int64 temp_sensor_name\n",
      "S10    111870\n",
      "Name: count, dtype: int64 overcurrent_sensor_name\n",
      "S18    111870\n",
      "Name: count, dtype: int64 thermal_camera_sensor_name\n",
      "S26    111870\n",
      "Name: count, dtype: int64\n"
     ]
    }
   ],
   "source": [
    "print(df.dust_sensor_name.value_counts(),\n",
    "df.temp_sensor_name.value_counts(),\n",
    "df.overcurrent_sensor_name.value_counts(),\n",
    "df.thermal_camera_sensor_name.value_counts())"
   ]
  },
  {
   "cell_type": "code",
   "execution_count": 15,
   "id": "32ce42e3",
   "metadata": {
    "vscode": {
     "languageId": "markdown"
    }
   },
   "outputs": [
    {
     "data": {
      "text/plain": [
       "collection_date\n",
       "08-26    12297\n",
       "08-27    20162\n",
       "08-28      902\n",
       "08-29      602\n",
       "08-30      902\n",
       "09-01    11907\n",
       "09-02    14016\n",
       "09-03    13177\n",
       "09-04      301\n",
       "09-05      301\n",
       "09-06     1203\n",
       "09-10      301\n",
       "09-11      301\n",
       "09-14      301\n",
       "09-20    17151\n",
       "10-24     2887\n",
       "10-26     3610\n",
       "10-27    11549\n",
       "Name: count, dtype: int64"
      ]
     },
     "execution_count": 15,
     "metadata": {},
     "output_type": "execute_result"
    }
   ],
   "source": [
    "df.collection_date.value_counts().sort_index()"
   ]
  },
  {
   "cell_type": "code",
   "execution_count": 21,
   "id": "dd3be184",
   "metadata": {
    "vscode": {
     "languageId": "markdown"
    }
   },
   "outputs": [
    {
     "data": {
      "text/plain": [
       "'NTC, PM10, PM2.5, PM1.0, CT1, CT2, CT3, CT4'"
      ]
     },
     "execution_count": 21,
     "metadata": {},
     "output_type": "execute_result"
    }
   ],
   "source": [
    "df.sensor_types[0]"
   ]
  },
  {
   "cell_type": "code",
   "execution_count": 23,
   "id": "bc752a32",
   "metadata": {
    "vscode": {
     "languageId": "markdown"
    }
   },
   "outputs": [
    {
     "data": {
      "text/plain": [
       "cumulative_operating_day\n",
       "13    45479\n",
       "18    66391\n",
       "Name: count, dtype: int64"
      ]
     },
     "execution_count": 23,
     "metadata": {},
     "output_type": "execute_result"
    }
   ],
   "source": [
    "df.cumulative_operating_day.value_counts().sort_index()"
   ]
  },
  {
   "cell_type": "code",
   "execution_count": 25,
   "id": "4b2a7e9e",
   "metadata": {
    "vscode": {
     "languageId": "markdown"
    }
   },
   "outputs": [
    {
     "data": {
      "text/plain": [
       "equipment_history\n",
       "13    66391\n",
       "7     45479\n",
       "Name: count, dtype: int64"
      ]
     },
     "execution_count": 25,
     "metadata": {},
     "output_type": "execute_result"
    }
   ],
   "source": [
    "# 0~20이라는데 이게 뭘 의미하는 걸까\n",
    "df.equipment_history.value_counts().sort_index()\n"
   ]
  },
  {
   "cell_type": "code",
   "execution_count": 27,
   "id": "4488a97d",
   "metadata": {
    "vscode": {
     "languageId": "markdown"
    }
   },
   "outputs": [
    {
     "data": {
      "text/plain": [
       "img_description\n",
       "agv01의 현재 내부 온도(최대값)    2527\n",
       "agv02의 현재 내부 온도(최대값)    2527\n",
       "agv03의 현재 내부 온도(최대값)    2527\n",
       "agv04의 현재 내부 온도(최대값)    2527\n",
       "agv05의 현재 내부 온도(최대값)    2527\n",
       "agv06의 현재 내부 온도(최대값)    2527\n",
       "agv07의 현재 내부 온도(최대값)    2527\n",
       "agv08의 현재 내부 온도(최대값)    2527\n",
       "agv09의 현재 내부 온도(최대값)    2527\n",
       "agv10의 현재 내부 온도(최대값)    2527\n",
       "agv11의 현재 내부 온도(최대값)    2527\n",
       "agv12의 현재 내부 온도(최대값)    2526\n",
       "agv13의 현재 내부 온도(최대값)    2526\n",
       "agv14의 현재 내부 온도(최대값)    2526\n",
       "agv15의 현재 내부 온도(최대값)    2526\n",
       "agv16의 현재 내부 온도(최대값)    2526\n",
       "agv17의 현재 내부 온도(최대값)    2526\n",
       "agv18의 현재 내부 온도(최대값)    2526\n",
       "oht01의 현재 내부 온도(최대값)    3731\n",
       "oht02의 현재 내부 온도(최대값)    3729\n",
       "oht03의 현재 내부 온도(최대값)    3693\n",
       "oht04의 현재 내부 온도(최대값)    3431\n",
       "oht05의 현재 내부 온도(최대값)    3730\n",
       "oht06의 현재 내부 온도(최대값)    3730\n",
       "oht07의 현재 내부 온도(최대값)    3730\n",
       "oht08의 현재 내부 온도(최대값)    3730\n",
       "oht09의 현재 내부 온도(최대값)    3730\n",
       "oht10의 현재 내부 온도(최대값)    3730\n",
       "oht11의 현재 내부 온도(최대값)    3730\n",
       "oht12의 현재 내부 온도(최대값)    3671\n",
       "oht13의 현재 내부 온도(최대값)    3671\n",
       "oht14의 현재 내부 온도(최대값)    3671\n",
       "oht15의 현재 내부 온도(최대값)    3671\n",
       "oht16의 현재 내부 온도(최대값)    3671\n",
       "oht17의 현재 내부 온도(최대값)    3671\n",
       "oht18의 현재 내부 온도(최대값)    3671\n",
       "Name: count, dtype: int64"
      ]
     },
     "execution_count": 27,
     "metadata": {},
     "output_type": "execute_result"
    }
   ],
   "source": [
    "df.img_description.value_counts().sort_index()"
   ]
  },
  {
   "cell_type": "code",
   "execution_count": 38,
   "id": "75de4f04",
   "metadata": {
    "vscode": {
     "languageId": "markdown"
    }
   },
   "outputs": [
    {
     "name": "stdout",
     "output_type": "stream",
     "text": [
      "annotation_state\n",
      "0    54928\n",
      "1    24081\n",
      "2    24191\n",
      "3     8670\n",
      "Name: count, dtype: int64 annotation_type\n",
      "tagging    111870\n",
      "Name: count, dtype: int64\n"
     ]
    }
   ],
   "source": [
    "print(df.annotation_state.value_counts().sort_index(),\n",
    "df.annotation_type.value_counts().sort_index())"
   ]
  },
  {
   "cell_type": "code",
   "execution_count": 37,
   "id": "e7336d65",
   "metadata": {
    "vscode": {
     "languageId": "markdown"
    }
   },
   "outputs": [
    {
     "name": "stdout",
     "output_type": "stream",
     "text": [
      "CT1_unit\n",
      "A    111870\n",
      "Name: count, dtype: int64 CT1_trend\n",
      "1    111870\n",
      "Name: count, dtype: int64 ex_humidity_unit\n",
      "%    111870\n",
      "Name: count, dtype: int64 ex_humidity_trend\n",
      "1    111870\n",
      "Name: count, dtype: int64\n"
     ]
    }
   ],
   "source": [
    "print(df.CT1_unit.value_counts().sort_index(),\n",
    "df.CT1_trend.value_counts().sort_index(),\n",
    "df.ex_humidity_unit.value_counts().sort_index(),\n",
    "df.ex_humidity_trend.value_counts().sort_index())\n",
    "\n"
   ]
  },
  {
   "cell_type": "code",
   "execution_count": 41,
   "id": "8d1bb361",
   "metadata": {
    "vscode": {
     "languageId": "markdown"
    }
   },
   "outputs": [
    {
     "data": {
      "image/png": "[encoded data removed]",
      "text/plain": [
       "<Figure size 1000x500 with 1 Axes>"
      ]
     },
     "metadata": {},
     "output_type": "display_data"
    }
   ],
   "source": [
    "# 히스토그램 출력할 두 컬럼 지정\n",
    "col1 = 'X_Tmax'\n",
    "col2 = 'Y_Tmax'\n",
    "\n",
    "# 히스토그램 그리기\n",
    "plt.figure(figsize=(10, 5))\n",
    "plt.hist(df[col1], bins=10, alpha=0.7, label=col1)\n",
    "plt.hist(df[col2], bins=10, alpha=0.7, label=col2)\n",
    "plt.xlabel('Value')\n",
    "plt.ylabel('Frequency')\n",
    "plt.title(f'Histogram of {col1} and {col2}')\n",
    "plt.legend()\n",
    "plt.grid(True)\n",
    "plt.show()"
   ]
  }
 ],
 "metadata": {
  "kernelspec": {
   "display_name": "venv",
   "language": "python",
   "name": "python3"
  },
  "language_info": {
   "codemirror_mode": {
    "name": "ipython",
    "version": 3
   },
   "file_extension": ".py",
   "mimetype": "text/x-python",
   "name": "python",
   "nbconvert_exporter": "python",
   "pygments_lexer": "ipython3",
   "version": "3.12.6"
  }
 },
 "nbformat": 4,
 "nbformat_minor": 5
}
